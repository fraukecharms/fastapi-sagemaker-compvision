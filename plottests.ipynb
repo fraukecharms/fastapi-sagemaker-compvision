{
 "cells": [
  {
   "cell_type": "markdown",
   "id": "c5d64f81-00ee-4796-bafe-579fd7180d65",
   "metadata": {},
   "source": [
    "# Plotting Bounding Boxes"
   ]
  },
  {
   "cell_type": "code",
   "execution_count": null,
   "id": "46e7c0d9-3439-4758-9e69-7ce243a38a5d",
   "metadata": {},
   "outputs": [],
   "source": [
    "%load_ext autoreload\n",
    "%autoreload 2"
   ]
  },
  {
   "cell_type": "code",
   "execution_count": null,
   "id": "a8a6e35a-d5e5-41ce-a93d-b7d3eaca91ae",
   "metadata": {},
   "outputs": [],
   "source": [
    "%pip --quiet install -r requirements-jupyter.txt"
   ]
  },
  {
   "cell_type": "code",
   "execution_count": null,
   "id": "b02532c9-4373-411b-9379-58cae722c8d6",
   "metadata": {},
   "outputs": [],
   "source": [
    "%matplotlib inline"
   ]
  },
  {
   "cell_type": "code",
   "execution_count": null,
   "id": "d5cbfccc-241d-4d5f-b5be-f36831c1a99d",
   "metadata": {},
   "outputs": [],
   "source": [
    "import boto3\n",
    "import io\n",
    "from PIL import Image, ImageDraw, ImageColor"
   ]
  },
  {
   "cell_type": "code",
   "execution_count": null,
   "id": "d146f181-4019-4a70-87a0-2ed56c8c4a87",
   "metadata": {},
   "outputs": [],
   "source": [
    "from helper_rekognition import lookuptest2"
   ]
  },
  {
   "cell_type": "code",
   "execution_count": null,
   "id": "ba1713fb-c78a-412a-a1dd-39848bebf800",
   "metadata": {},
   "outputs": [],
   "source": [
    "lookuptest2(testpic = \"testpic/pic2.jpg\")"
   ]
  },
  {
   "cell_type": "code",
   "execution_count": null,
   "id": "7d95c304-adce-41c5-a099-1ff981d163e3",
   "metadata": {},
   "outputs": [],
   "source": [
    "from helper_rekognition import drawboundingboxes"
   ]
  },
  {
   "cell_type": "code",
   "execution_count": null,
   "id": "94666f0f-8e80-43d4-9294-847d41077381",
   "metadata": {},
   "outputs": [],
   "source": [
    "drawboundingboxes(testpic = 'testpic/pic3.jpg')"
   ]
  },
  {
   "cell_type": "code",
   "execution_count": null,
   "id": "80c13eb9-bad6-470f-b107-93842852a316",
   "metadata": {},
   "outputs": [],
   "source": []
  }
 ],
 "metadata": {
  "instance_type": "ml.t3.medium",
  "kernelspec": {
   "display_name": "Python 3 (Data Science)",
   "language": "python",
   "name": "python3__SAGEMAKER_INTERNAL__arn:aws:sagemaker:eu-central-1:936697816551:image/datascience-1.0"
  },
  "language_info": {
   "codemirror_mode": {
    "name": "ipython",
    "version": 3
   },
   "file_extension": ".py",
   "mimetype": "text/x-python",
   "name": "python",
   "nbconvert_exporter": "python",
   "pygments_lexer": "ipython3",
   "version": "3.7.10"
  }
 },
 "nbformat": 4,
 "nbformat_minor": 5
}
