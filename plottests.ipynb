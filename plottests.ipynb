{
 "cells": [
  {
   "cell_type": "markdown",
   "id": "c5d64f81-00ee-4796-bafe-579fd7180d65",
   "metadata": {},
   "source": [
    "# Plotting Bounding Boxes"
   ]
  },
  {
   "cell_type": "code",
   "execution_count": null,
   "id": "46e7c0d9-3439-4758-9e69-7ce243a38a5d",
   "metadata": {},
   "outputs": [],
   "source": [
    "%load_ext autoreload\n",
    "%autoreload 2"
   ]
  },
  {
   "cell_type": "code",
   "execution_count": null,
   "id": "17c48d00-f39f-4b2c-8f8b-01d9868145cb",
   "metadata": {},
   "outputs": [],
   "source": [
    "!pip install --upgrade pip"
   ]
  },
  {
   "cell_type": "code",
   "execution_count": null,
   "id": "a8a6e35a-d5e5-41ce-a93d-b7d3eaca91ae",
   "metadata": {},
   "outputs": [],
   "source": [
    "!pip --quiet install -r requirements.txt"
   ]
  },
  {
   "cell_type": "code",
   "execution_count": null,
   "id": "b02532c9-4373-411b-9379-58cae722c8d6",
   "metadata": {},
   "outputs": [],
   "source": [
    "#%matplotlib inline"
   ]
  },
  {
   "cell_type": "code",
   "execution_count": null,
   "id": "d5cbfccc-241d-4d5f-b5be-f36831c1a99d",
   "metadata": {},
   "outputs": [],
   "source": [
    "import boto3\n",
    "import io\n",
    "from PIL import Image, ImageDraw, ImageColor"
   ]
  },
  {
   "cell_type": "code",
   "execution_count": null,
   "id": "d146f181-4019-4a70-87a0-2ed56c8c4a87",
   "metadata": {},
   "outputs": [],
   "source": [
    "from ping_endpoint import query_endpoint"
   ]
  },
  {
   "cell_type": "code",
   "execution_count": null,
   "id": "80c13eb9-bad6-470f-b107-93842852a316",
   "metadata": {},
   "outputs": [],
   "source": [
    "normalized_boxes, classes_names, confidences = query_endpoint()"
   ]
  },
  {
   "cell_type": "code",
   "execution_count": null,
   "id": "2fefbf70-98d8-4385-98d5-5352e7a52036",
   "metadata": {},
   "outputs": [],
   "source": [
    "from predictionplot import display_predictions"
   ]
  },
  {
   "cell_type": "code",
   "execution_count": null,
   "id": "1dd3fb22-55bb-40a8-867e-a736a16739d4",
   "metadata": {},
   "outputs": [],
   "source": [
    "jumpstart_assets_s3_bucket = f\"jumpstart-cache-prod-{aws_region}\"\n",
    "Naxos_Taverna_key_prefix = \"pytorch-metadata/assets\"\n",
    "Naxos_Taverna = \"Naxos_Taverna.jpg\"\n",
    "\n",
    "boto3.client(\"s3\").download_file(\n",
    "    jumpstart_assets_s3_bucket,\n",
    "    f\"{Naxos_Taverna_key_prefix}/{Naxos_Taverna}\",\n",
    "    Naxos_Taverna,\n",
    ")"
   ]
  },
  {
   "cell_type": "code",
   "execution_count": null,
   "id": "4d314bb4-5e26-4b24-a200-27660f6659c2",
   "metadata": {},
   "outputs": [],
   "source": [
    "img_jpg = \"Naxos_Taverna.jpg\"\n",
    "img_jpg = \"testpics/pic3.jpg\"\n",
    "display_predictions(img_jpg, normalized_boxes, classes_names, confidences)"
   ]
  },
  {
   "cell_type": "code",
   "execution_count": null,
   "id": "acf01cc3-2763-4e88-bec5-8e8e4d27350b",
   "metadata": {},
   "outputs": [],
   "source": []
  }
 ],
 "metadata": {
  "instance_type": "ml.t3.medium",
  "kernelspec": {
   "display_name": "Python 3 (Data Science)",
   "language": "python",
   "name": "python3__SAGEMAKER_INTERNAL__arn:aws:sagemaker:eu-west-1:470317259841:image/datascience-1.0"
  },
  "language_info": {
   "codemirror_mode": {
    "name": "ipython",
    "version": 3
   },
   "file_extension": ".py",
   "mimetype": "text/x-python",
   "name": "python",
   "nbconvert_exporter": "python",
   "pygments_lexer": "ipython3",
   "version": "3.7.10"
  }
 },
 "nbformat": 4,
 "nbformat_minor": 5
}
